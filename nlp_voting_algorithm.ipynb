{
 "cells": [
  {
   "cell_type": "markdown",
   "metadata": {},
   "source": [
    "### Voting algorithm test.\n",
    "Data is from a conduct risk domain. Sentences are labelled as problematic from a conduct risk perspective or innocent/neutral from a conduct risk perspective. For this exercise models are trained and tested on imbalanced classes. I have printed out the top of both the training and test data sets to give some context to the sentences used in the exercise.\n",
    "#### There are four custom classes below.\n",
    "The \"prep\" class reads in the test and training data and rebalances the classes if required. In this exercise the class of interest is set at 3% of the entire dataset. It can be set at whatever is needed or just ignored if appropriate.\n",
    "The \"clean\" class uses Spacy to produce a corpus ready for the pipeline and ultimately the voting algorithm.\n",
    "The \"mean embedding class\" (not my original code) allows for the word embeddings to be passed to the sklearn pipeline. The \"voter\" class runs all the pipelines and produces a confusion matrix from the final voting algorithm.\n",
    "#### Overview of the voting algorithm.\n",
    "This is a natural language processing exercise. The data consists of sentences and accompanying labels. The final task performed in the notebook is to classify sentences that are regarded as ok or problematic. Problem sentences are those viewed as being of concern and would be viewed by a risk person as worthy of further examination.\n",
    "The confusion matrix summarises the accuracy of the voting algorithm.\n",
    "The various classes that are imported are doing the following under the hood:\n",
    "1. Producing word embeddings from the Facebook Fasttext model and the Google Word2Vec model.\n",
    "2. Each set of embeddings along with labels are passed to four classification algorithms:KNN,Bagging classifier(KNN base), fully connected neural network classifier and extratrees(extremely randomised trees) classifier. Each of these classification algorithms in effect produces a prediction for the voting algorithm but with their own bias-variance characteristics.\n",
    "4. In total there are eight classifiers working in the pipeline ahead of the final voting algorithm. There are four classifiers for each of the two word embedding models.  \n",
    "4. The voting algorithm, in this exercise, treats each of of the eight predictions equally in deciding how to classify the unseen test sentences. Results/predictions are summarised in the confusion matrix.\n",
    "\n",
    "\n",
    " \n",
    "##### Oct 2019\n"
   ]
  },
  {
   "cell_type": "code",
   "execution_count": 1,
   "metadata": {},
   "outputs": [],
   "source": [
    "#Use pandas for this notebook to read in the test and training data. \n",
    "import pandas as pd\n",
    "#Import custom classes\n",
    "from Downloads.prepdata import prep \n",
    "from Downloads.spacyclean import clean\n",
    "from Downloads.meanembeddings  import MeanEmbeddingVectorizer\n",
    "from Downloads.vote import voter"
   ]
  },
  {
   "cell_type": "code",
   "execution_count": 2,
   "metadata": {},
   "outputs": [],
   "source": [
    "#Define test and training data\n",
    "test = pd.read_csv('/Users/brianfarrell/Desktop/test_client_dissatisfaction.csv',encoding='utf8')\n",
    "training = pd.read_csv('/Users/brianfarrell/Desktop/training.csv',encoding='utf8')"
   ]
  },
  {
   "cell_type": "code",
   "execution_count": 3,
   "metadata": {},
   "outputs": [
    {
     "data": {
      "text/html": [
       "<div>\n",
       "<style scoped>\n",
       "    .dataframe tbody tr th:only-of-type {\n",
       "        vertical-align: middle;\n",
       "    }\n",
       "\n",
       "    .dataframe tbody tr th {\n",
       "        vertical-align: top;\n",
       "    }\n",
       "\n",
       "    .dataframe thead th {\n",
       "        text-align: right;\n",
       "    }\n",
       "</style>\n",
       "<table border=\"1\" class=\"dataframe\">\n",
       "  <thead>\n",
       "    <tr style=\"text-align: right;\">\n",
       "      <th></th>\n",
       "      <th>Sentences</th>\n",
       "      <th>Label_bin</th>\n",
       "      <th>Misconduct_type</th>\n",
       "    </tr>\n",
       "  </thead>\n",
       "  <tbody>\n",
       "    <tr>\n",
       "      <th>0</th>\n",
       "      <td>I need to speak offline</td>\n",
       "      <td>1</td>\n",
       "      <td>Evassiveness</td>\n",
       "    </tr>\n",
       "    <tr>\n",
       "      <th>1</th>\n",
       "      <td>Can you call me on my mobile</td>\n",
       "      <td>1</td>\n",
       "      <td>Evassiveness</td>\n",
       "    </tr>\n",
       "    <tr>\n",
       "      <th>2</th>\n",
       "      <td>Can you call me on my cell now</td>\n",
       "      <td>1</td>\n",
       "      <td>Evassiveness</td>\n",
       "    </tr>\n",
       "    <tr>\n",
       "      <th>3</th>\n",
       "      <td>Can we talk offline</td>\n",
       "      <td>1</td>\n",
       "      <td>Evassiveness</td>\n",
       "    </tr>\n",
       "    <tr>\n",
       "      <th>4</th>\n",
       "      <td>LTOL</td>\n",
       "      <td>1</td>\n",
       "      <td>Evassiveness</td>\n",
       "    </tr>\n",
       "  </tbody>\n",
       "</table>\n",
       "</div>"
      ],
      "text/plain": [
       "                        Sentences  Label_bin Misconduct_type\n",
       "0         I need to speak offline          1    Evassiveness\n",
       "1    Can you call me on my mobile          1    Evassiveness\n",
       "2  Can you call me on my cell now          1    Evassiveness\n",
       "3             Can we talk offline          1    Evassiveness\n",
       "4                            LTOL          1    Evassiveness"
      ]
     },
     "execution_count": 3,
     "metadata": {},
     "output_type": "execute_result"
    }
   ],
   "source": [
    "#Display top of the training dataset\n",
    "training.head()"
   ]
  },
  {
   "cell_type": "code",
   "execution_count": 4,
   "metadata": {},
   "outputs": [
    {
     "data": {
      "text/html": [
       "<div>\n",
       "<style scoped>\n",
       "    .dataframe tbody tr th:only-of-type {\n",
       "        vertical-align: middle;\n",
       "    }\n",
       "\n",
       "    .dataframe tbody tr th {\n",
       "        vertical-align: top;\n",
       "    }\n",
       "\n",
       "    .dataframe thead th {\n",
       "        text-align: right;\n",
       "    }\n",
       "</style>\n",
       "<table border=\"1\" class=\"dataframe\">\n",
       "  <thead>\n",
       "    <tr style=\"text-align: right;\">\n",
       "      <th></th>\n",
       "      <th>Sentences</th>\n",
       "      <th>Label_bin</th>\n",
       "      <th>Misconduct_type</th>\n",
       "    </tr>\n",
       "  </thead>\n",
       "  <tbody>\n",
       "    <tr>\n",
       "      <th>0</th>\n",
       "      <td>Client is not happy can't talk right now</td>\n",
       "      <td>1</td>\n",
       "      <td>Client dissatisfaction</td>\n",
       "    </tr>\n",
       "    <tr>\n",
       "      <th>1</th>\n",
       "      <td>I just bought some apples at the market on the...</td>\n",
       "      <td>0</td>\n",
       "      <td>Conduct Neutral</td>\n",
       "    </tr>\n",
       "    <tr>\n",
       "      <th>2</th>\n",
       "      <td>But that would nt work .</td>\n",
       "      <td>0</td>\n",
       "      <td>Conduct Neutral</td>\n",
       "    </tr>\n",
       "    <tr>\n",
       "      <th>3</th>\n",
       "      <td>Well there are times when you are on and times...</td>\n",
       "      <td>0</td>\n",
       "      <td>Conduct Neutral</td>\n",
       "    </tr>\n",
       "    <tr>\n",
       "      <th>4</th>\n",
       "      <td>I got a great deal on my mobile plan .</td>\n",
       "      <td>0</td>\n",
       "      <td>Conduct Neutral</td>\n",
       "    </tr>\n",
       "  </tbody>\n",
       "</table>\n",
       "</div>"
      ],
      "text/plain": [
       "                                           Sentences  Label_bin  \\\n",
       "0           Client is not happy can't talk right now          1   \n",
       "1  I just bought some apples at the market on the...          0   \n",
       "2                           But that would nt work .          0   \n",
       "3  Well there are times when you are on and times...          0   \n",
       "4             I got a great deal on my mobile plan .          0   \n",
       "\n",
       "          Misconduct_type  \n",
       "0  Client dissatisfaction  \n",
       "1         Conduct Neutral  \n",
       "2         Conduct Neutral  \n",
       "3         Conduct Neutral  \n",
       "4         Conduct Neutral  "
      ]
     },
     "execution_count": 4,
     "metadata": {},
     "output_type": "execute_result"
    }
   ],
   "source": [
    "#Display top of test dataset\n",
    "test.head()"
   ]
  },
  {
   "cell_type": "code",
   "execution_count": 5,
   "metadata": {},
   "outputs": [
    {
     "name": "stderr",
     "output_type": "stream",
     "text": [
      "100%|██████████| 3157/3157 [00:00<00:00, 212164.81it/s]"
     ]
    },
    {
     "name": "stdout",
     "output_type": "stream",
     "text": [
      " All sentences parsed\n"
     ]
    },
    {
     "name": "stderr",
     "output_type": "stream",
     "text": [
      "\n"
     ]
    },
    {
     "name": "stdout",
     "output_type": "stream",
     "text": [
      "     VotingClassifier confusion matrix\n",
      "\n",
      "         predicted ok  predicted problem\n",
      "ok                763                  0\n",
      "problem             0                 27\n"
     ]
    }
   ],
   "source": [
    "#Run voting algorithm and produce confusion matrix.\n",
    "def produce_confusion_matrix():\n",
    "    data= prep.balancedata(test,training)\n",
    "    cleaned_training_corpus = clean.spacy_cleanup(data.Sentences.str.cat(sep='\\n')) \n",
    "    corpus= clean.get_corpus(cleaned_training_corpus) \n",
    "    labels=data.Label_bin\n",
    "    X_train, X_test, y_train, y_test = clean.split_data(cleaned_training_corpus,labels)\n",
    "    ft_embeddings=voter.get_ft_embeddings(corpus) \n",
    "    w2v_embeddings=voter.get_w2v_embeddings(corpus)\n",
    "    voter.run_pipe(ft_embeddings,w2v_embeddings,X_train, X_test, y_train, y_test)\n",
    "produce_confusion_matrix() "
   ]
  }
 ],
 "metadata": {
  "kernelspec": {
   "display_name": "Python 3",
   "language": "python",
   "name": "python3"
  },
  "language_info": {
   "codemirror_mode": {
    "name": "ipython",
    "version": 3
   },
   "file_extension": ".py",
   "mimetype": "text/x-python",
   "name": "python",
   "nbconvert_exporter": "python",
   "pygments_lexer": "ipython3",
   "version": "3.6.8"
  }
 },
 "nbformat": 4,
 "nbformat_minor": 2
}
